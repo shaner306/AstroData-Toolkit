{
  "nbformat": 4,
  "nbformat_minor": 0,
  "metadata": {
    "colab": {
      "name": "Astro2.ipynb",
      "provenance": [],
      "toc_visible": true,
      "authorship_tag": "ABX9TyMDNQ9R3LqPtMGcU0VTzjka",
      "include_colab_link": true
    },
    "kernelspec": {
      "name": "python3",
      "display_name": "Python 3"
    },
    "language_info": {
      "name": "python"
    }
  },
  "cells": [
    {
      "cell_type": "markdown",
      "metadata": {
        "id": "view-in-github",
        "colab_type": "text"
      },
      "source": [
        "<a href=\"https://colab.research.google.com/github/shaner306/AstroData-Toolkit/blob/main/Astro2.ipynb\" target=\"_parent\"><img src=\"https://colab.research.google.com/assets/colab-badge.svg\" alt=\"Open In Colab\"/></a>"
      ]
    },
    {
      "cell_type": "markdown",
      "source": [
        "# How to Run Astro Processor"
      ],
      "metadata": {
        "id": "1HGGNMMULwPJ"
      }
    },
    {
      "cell_type": "markdown",
      "source": [
        "### Preface\n",
        "The purpose of the Astro Development Tool-Kit is to provide an open source full-package image processing library for **Satellite Surveillence**. Currently no python library exists for the purpose of SSA photometry and processing, as most of the libraries within the Astropy catalog are tailored towards **Stellar Astronomy.**\n",
        "\n",
        "Additional python libraries can be found at:\n",
        "https://www.astropy.org\n",
        "\n",
        "In order to run the program the following external items are required:\n",
        "\n",
        "1.   Star Catalog* *(UCAC4 recommended)*\n",
        "2.   Reference Star File *(downloaded from github)*\n",
        "3.   [Visual Pinpoint V7.0 and 64bit addon](https://forums.dc3.com/showthread.php?13785-PinPoint-7-0-Released)\n",
        "\n",
        "\n",
        "**A brief examination of the different star catalogs is provided at the end of this notebook.*\n",
        "\n",
        "The program contains several independant modules that can either be run seperately or as a series, depending on the files input into the processor, and the needs of the researcher.\n",
        "\n",
        "The processor can read **.fit, .fits, and .FIT** files, and each image file should have a valid header complying with the [NASA Standards.](https://https://fits.gsfc.nasa.gov/fits_primer.html)\n",
        "\n",
        "Prior to input ensure the following KEYWORDS are present in the .fits files. These KEYWORDS should be automatically set on the CCD or sensor software prior to image capture. \n",
        "\n",
        "The processor is available in both a standalone GUI and Python library format. \n",
        "\n",
        "The following modules are available within this library:\n",
        "1. [Image Reduction](#GUI)\n",
        "2. Pinpoint Solving\n",
        "3. Background Reduction\n",
        "3. Ground-Based Transform Calculation\n",
        "4. Space-Based Transform Calculation\n",
        "5. Streak Detection and Astrometry\n",
        "6. Streak Classification and Satellite Photometry\n",
        "7. Data Visualization\n",
        "8. Statistical Output\n",
        "\n",
        "\n",
        "---\n",
        "### Workflow\n",
        "The following outline below is a simplified workflow detailing the steps and procedures taken by the processor and a example researcher throughout the entire process, from image capture to data output. \n",
        "\n",
        "Step 1. Image Capture\n",
        "- Images are captured via CCD or CMOS censor and exported with the appropriate header KEYWORDS into a series of .fits file.\n",
        "- If necessary, images are captured using various filters, and calibration frames for Bias, Darks, and Flats are captured prior to star tracking.\n",
        "\n",
        "Step 2. Image Reduction\n",
        "- Bias, Dark, and Flat frames for the specified sensor are stacked and combined to form their respective \"Master\" files. \n",
        "- Using the Image Reduction method, the three Master Frames are subtracted from the light images, eliminating most of the distortion and biases due to the sensor. \n",
        "\n",
        "Step 3. *(If TRM)* Streak Detection and Classification\n",
        "- TBA\n",
        "\n",
        "Step 4. *(if SSM)* Pinpoint Solve\n",
        "- The subtracted light images are run through Pinpoint software, using either the default values defined within the processor, or adjusted values tailored to the specific images and sensor. \n",
        "- Pinpoint's internal detection algorithm detects the # of objects in the image, as well as the # of catalog objects at the estimated region. **(Region is determined by the estimated RA and DEC provided by the initial fits header)**\n",
        "- Pinpoint attempts to match the pixel location, and raw flux of the detected objects to those of the catalog objects.\n",
        "- If a match is detected, Pinpoint adjusts the header values for RA and DEC to their precise locations. (Also known as Astrometry)\n",
        "\n"
      ],
      "metadata": {
        "id": "vwit5Xe4MBwy"
      }
    },
    {
      "cell_type": "markdown",
      "source": [
        "## Dependancies\n",
        "The following libraries are dependancies for the main.py processor:"
      ],
      "metadata": {
        "id": "Ytss2BD7bx0R"
      }
    },
    {
      "cell_type": "code",
      "source": [
        "\n",
        "import math\n",
        "import multiprocessing as mp\n",
        "import os\n",
        "import time\n",
        "from pathlib import Path\n",
        "import PySimpleGUI as sg\n",
        "import numpy as np\n",
        "import pandas as pd\n",
        "import tqdm\n",
        "import win32com\n",
        "import win32com.client\n",
        "from astropy.io import fits\n",
        "from astropy.stats import SigmaClip\n",
        "from astropy.wcs import WCS\n",
        "from ccdproc import ImageFileCollection\n",
        "from numpy import mean\n",
        "from photutils.background import Background2D\n",
        "from photutils.background import MeanBackground\n",
        "from photutils.background import MedianBackground\n",
        "from photutils.background import ModeEstimatorBackground\n",
        "from photutils.background import SExtractorBackground\n",
        "import AstroFunctions as astro\n",
        "import ImageReduction as IR\n",
        "import SBDarkSub\n",
        "import utils\n",
        "import main_transforms as transforms\n",
        "import pinpoint"
      ],
      "metadata": {
        "id": "7FSAou4IS2YE"
      },
      "execution_count": null,
      "outputs": []
    },
    {
      "cell_type": "markdown",
      "source": [
        "## Input Locations\n",
        "The main three inputs into the processor are entered into the variables below. \n",
        "\n",
        "\n",
        "1.   Folder of Images\n",
        "2.   Reference Stars in .CSV or .TXT format\n",
        "3.   Star Catalog Folder\n",
        "\n",
        "It is important to enter the lowest level folder of images you wish to process as one batch. If you save the input folder as either:\n",
        "\n",
        "\n",
        "```\n",
        "# Includes images from B, G, R filters in the same batch\n",
        "inbox = 'D:\\\\Wawrow\\\\2. Observational Data\\\\2021-03-10 - Calibrated\\\\HIP 46066\\\\LIGHT'\n",
        "```\n",
        "or \n",
        "\n",
        "```\n",
        "# Includes the Light image set and the Bias, Darks, Flats images\n",
        "inbox = 'D:\\\\Wawrow\\\\2. Observational Data\\\\2021-03-10 - Calibrated\\\\HIP 46066'\n",
        "```\n",
        "\n",
        "The processor will include magnitude data from different filters and unsubtracted data, which will result in erroneous data in the final output.\n"
      ],
      "metadata": {
        "id": "nXEdF75xhgIZ"
      }
    },
    {
      "cell_type": "code",
      "source": [
        "# Image Location of .fits Format\n",
        "inbox = 'D:\\\\ADTK\\\\Images\\\\2021-03-10 - Calibrated\\\\HIP 46066\\\\LIGHT\\\\B'\n",
        "ref_stars_file = r'D:\\ADTK\\Reference Star Files\\Reference_stars_Apr29.txt'\n",
        "catloc = 'D:\\\\ADTK\\\\UCAC4'"
      ],
      "metadata": {
        "id": "mtqfMeqEh7ID"
      },
      "execution_count": null,
      "outputs": []
    },
    {
      "cell_type": "markdown",
      "source": [
        "Once processed, the processor will output a series of charts, spreadsheets, and statistical data pertaining to the images.\n",
        "\n",
        "The following line of code will set where the output folder is created."
      ],
      "metadata": {
        "id": "5fBHfvQekWJ9"
      }
    },
    {
      "cell_type": "code",
      "source": [
        "save_loc = os.path.join(inbox, 'Outputs')  # Output Folder for Files"
      ],
      "metadata": {
        "id": "YAdnNKe_i_2f"
      },
      "execution_count": null,
      "outputs": []
    },
    {
      "cell_type": "markdown",
      "source": [
        "## Initialize Image Reduction\n",
        "If the images have not been reduced (subtracted) prior to processing, the following options will initialize the Image Reduction algorithm.\n"
      ],
      "metadata": {
        "id": "qv8YksNgljy_"
      }
    },
    {
      "cell_type": "code",
      "source": [
        "# Switches for Master Frame creation:\n",
        "create_master_dir = True\n",
        "run_master_bias = True\n",
        "run_master_dark = True\n",
        "run_master_flat = True\n",
        "correct_light_frames = True\n",
        "OutputsaveLoc = False  # 0 Default will save outputs in image folder\n",
        "reduce_dir = 'D:\\\\Image Reduction Test Images'\n",
        "\n",
        "# Set Image Processing Variables\n",
        "streak_array = []  # Streak Detection for Track Rate Mode\n",
        "edge_protect = 10  # Img Edge Clipping\n",
        "min_obj_pixels = 5  # Min Pixels to qualify as a Point Source\n",
        "SNRLimit = 0  # Signal-To-Noise Ratio\n",
        "\n",
        "# Set Ground-Based or Space-Based, Chose only one\n",
        "ground_based = False\n",
        "space_based = False  # TODO Add Ground Based Selection Input\n",
        "\n",
        "# Whether to Solve in Pinpoint before conducting Photometry\n",
        "pinpoint = True  # TODO Add Pinpoint Solve or Not to GUI\n",
        "plot_results = True  # Plot results on a light curve\n",
        "TRM = False  # Conduct Astrometry or not\n",
        "save_plots = True  # Save PNG files in directory after Photometry processing\n",
        "remove_large_airmass = False\n",
        "image_reduce = False  # Reduce Images before Solving"
      ],
      "metadata": {
        "id": "mcf3N3bilkia"
      },
      "execution_count": null,
      "outputs": []
    },
    {
      "cell_type": "markdown",
      "source": [
        ""
      ],
      "metadata": {
        "id": "EF0DEolon27a"
      }
    },
    {
      "cell_type": "markdown",
      "source": [
        "# GUI"
      ],
      "metadata": {
        "id": "oaj-2vB6D8BG"
      }
    },
    {
      "cell_type": "markdown",
      "source": [
        "<a name=\"GUI\"></a>"
      ],
      "metadata": {
        "id": "4Wn4dmgUM6Oj"
      }
    },
    {
      "cell_type": "markdown",
      "source": [
        ""
      ],
      "metadata": {
        "id": "aV8SQpNGlgNQ"
      }
    },
    {
      "cell_type": "code",
      "execution_count": null,
      "metadata": {
        "id": "F5ZIhQy2GYnw"
      },
      "outputs": [],
      "source": [
        ""
      ]
    },
    {
      "cell_type": "markdown",
      "source": [
        "# Image Reduction\n"
      ],
      "metadata": {
        "id": "_95iFuIqD9MF"
      }
    },
    {
      "cell_type": "code",
      "source": [
        ""
      ],
      "metadata": {
        "id": "rY2ypukMFi74"
      },
      "execution_count": null,
      "outputs": []
    },
    {
      "cell_type": "markdown",
      "source": [
        "\n",
        "# Pinpoint Solving\n"
      ],
      "metadata": {
        "id": "B-50y8xkEIxf"
      }
    },
    {
      "cell_type": "markdown",
      "source": [
        "Pinpoint is an windows application currently integrated into the processor for the purpose of plate solving the images prior to processing.\n",
        "\n",
        "A number of settings are adjusted during the solving process in order to accomodate for the variances between images.\n",
        "The following settings are commonly adjusted:\n",
        "\n",
        "\n",
        "1.   Pixel Scale (ArcSec Per Pixel)\n",
        "2.   Sigma Clipping (Background subtraction Std. Dev.)\n",
        "3.   List item\n",
        "4.   List item\n",
        "5.   List item\n",
        "6.   List item\n",
        "\n",
        "\n",
        "\n",
        "\n",
        "\n",
        "More info regarding Pinpoint can be found at: \n"
      ],
      "metadata": {
        "id": "9v2tinvAFj9B"
      }
    },
    {
      "cell_type": "code",
      "source": [
        ""
      ],
      "metadata": {
        "id": "Yt98e7dCFjpL"
      },
      "execution_count": null,
      "outputs": []
    },
    {
      "cell_type": "markdown",
      "source": [
        "# Track Rate Mode - Simple\n"
      ],
      "metadata": {
        "id": "K_oT_I6EEK-l"
      }
    },
    {
      "cell_type": "markdown",
      "source": [
        "# Track Rate Mode - Complex"
      ],
      "metadata": {
        "id": "jGczxXddWQMG"
      }
    },
    {
      "cell_type": "markdown",
      "source": [
        "# Pinpoint Alternatives\n"
      ],
      "metadata": {
        "id": "0kCgbTHdW-tB"
      }
    }
  ]
}