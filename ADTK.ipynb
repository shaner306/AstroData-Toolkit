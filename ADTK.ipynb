{
  "nbformat": 4,
  "nbformat_minor": 0,
  "metadata": {
    "colab": {
      "name": "Astro2.ipynb",
      "provenance": [],
      "toc_visible": true,
      "authorship_tag": "ABX9TyMgbJYq7XWB/bfQaEmfCtQc",
      "include_colab_link": true
    },
    "kernelspec": {
      "name": "python3",
      "display_name": "Python 3"
    },
    "language_info": {
      "name": "python"
    }
  },
  "cells": [
    {
      "cell_type": "markdown",
      "metadata": {
        "id": "view-in-github",
        "colab_type": "text"
      },
      "source": [
        "<a href=\"https://colab.research.google.com/github/shaner306/AstroData-Toolkit/blob/main/ADTK.ipynb\" target=\"_parent\"><img src=\"https://colab.research.google.com/assets/colab-badge.svg\" alt=\"Open In Colab\"/></a>"
      ]
    },
    {
      "cell_type": "markdown",
      "source": [
        "# How to Run Astroprocessor"
      ],
      "metadata": {
        "id": "1HGGNMMULwPJ"
      }
    },
    {
      "cell_type": "markdown",
      "source": [
        "### Preface\n",
        "The purpose of the Astro Development Tool-Kit is to provide an open source full-package image processing library for **Satellite Surveillence**. Currently no python library exists for the purpose of SSA photometry and processing, as most of the libraries within the Astropy catalog are tailored towards **Stellar Astronomy.**\n",
        "\n",
        "Additional python libraries can be found at:\n",
        "https://www.astropy.org\n",
        "\n",
        "In order to run the program the following external items are required:\n",
        "\n",
        "1.   Star Catalog* *(UCAC4 recommended)*\n",
        "2.   Reference Star File *(downloaded from github)*\n",
        "3.   [Visual Pinpoint V7.0 and 64bit addon](https://forums.dc3.com/showthread.php?13785-PinPoint-7-0-Released)\n",
        "\n",
        "\n",
        "**A brief examination of the different star catalogs is provided at the end of this notebook.*\n",
        "\n",
        "The program contains several independant modules that can either be run seperately or as a series, depending on the files input into the processor, and the needs of the researcher.\n",
        "\n",
        "The processor can read **.fit, .fits, and .FIT** files, and each image file should have a valid header complying with the [NASA Standards.](https://https://fits.gsfc.nasa.gov/fits_primer.html)\n",
        "\n",
        "Prior to input ensure the following KEYWORDS are present in the .fits files. These KEYWORDS should be automatically set on the CCD or sensor software prior to image capture. \n",
        "\n",
        "The processor is available in both a standalone GUI and Python library format. \n",
        "\n",
        "The following modules are available within this library:\n",
        "1. [Image Reduction](#GUI)\n",
        "2. Pinpoint Solving\n",
        "3. Background Reduction\n",
        "3. Ground-Based Transform Calculation\n",
        "4. Space-Based Transform Calculation\n",
        "5. Streak Detection and Astrometry\n",
        "6. Streak Classification and Satellite Photometry\n",
        "7. Data Visualization\n",
        "8. Statistical Output\n",
        "\n",
        "\n",
        "---\n",
        "### Workflow\n",
        "The following outline below is a simplified workflow detailing the steps and procedures taken by the processor and a example researcher throughout the entire process, from image capture to data output. \n",
        "\n",
        "Step 1. Image Capture\n",
        "- The image \n",
        "\n",
        "\n",
        "### Dependancies\n",
        "\n",
        "\n",
        "\n",
        "\n"
      ],
      "metadata": {
        "id": "vwit5Xe4MBwy"
      }
    },
    {
      "cell_type": "code",
      "source": [
        ""
      ],
      "metadata": {
        "id": "7FSAou4IS2YE"
      },
      "execution_count": null,
      "outputs": []
    },
    {
      "cell_type": "markdown",
      "source": [
        "# GUI"
      ],
      "metadata": {
        "id": "oaj-2vB6D8BG"
      }
    },
    {
      "cell_type": "markdown",
      "source": [
        "<a name=\"GUI\"></a>"
      ],
      "metadata": {
        "id": "4Wn4dmgUM6Oj"
      }
    },
    {
      "cell_type": "code",
      "execution_count": null,
      "metadata": {
        "id": "F5ZIhQy2GYnw"
      },
      "outputs": [],
      "source": [
        ""
      ]
    },
    {
      "cell_type": "markdown",
      "source": [
        "# Image Reduction\n"
      ],
      "metadata": {
        "id": "_95iFuIqD9MF"
      }
    },
    {
      "cell_type": "code",
      "source": [
        ""
      ],
      "metadata": {
        "id": "rY2ypukMFi74"
      },
      "execution_count": null,
      "outputs": []
    },
    {
      "cell_type": "markdown",
      "source": [
        "\n",
        "# Pinpoint Solving\n"
      ],
      "metadata": {
        "id": "B-50y8xkEIxf"
      }
    },
    {
      "cell_type": "markdown",
      "source": [
        "Pinpoint is an windows application currently integrated into the processor for the purpose of plate solving the images prior to processing.\n",
        "\n",
        "A number of settings are adjusted during the solving process in order to accomodate for the variances between images.\n",
        "The following settings are commonly adjusted:\n",
        "\n",
        "\n",
        "1.   Pixel Scale (ArcSec Per Pixel)\n",
        "2.   Sigma Clipping (Background subtraction Std. Dev.)\n",
        "3.   List item\n",
        "4.   List item\n",
        "5.   List item\n",
        "6.   List item\n",
        "\n",
        "\n",
        "\n",
        "\n",
        "\n",
        "More info regarding Pinpoint can be found at: \n"
      ],
      "metadata": {
        "id": "9v2tinvAFj9B"
      }
    },
    {
      "cell_type": "code",
      "source": [
        ""
      ],
      "metadata": {
        "id": "Yt98e7dCFjpL"
      },
      "execution_count": null,
      "outputs": []
    },
    {
      "cell_type": "markdown",
      "source": [
        "# Track Rate Mode - Simple\n"
      ],
      "metadata": {
        "id": "K_oT_I6EEK-l"
      }
    },
    {
      "cell_type": "markdown",
      "source": [
        "# Track Rate Mode - Complex"
      ],
      "metadata": {
        "id": "jGczxXddWQMG"
      }
    }
  ]
}